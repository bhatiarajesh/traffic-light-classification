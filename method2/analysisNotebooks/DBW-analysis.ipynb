{
 "cells": [
  {
   "cell_type": "code",
   "execution_count": 30,
   "metadata": {},
   "outputs": [
    {
     "name": "stdout",
     "output_type": "stream",
     "text": [
      "0.0 0.25\n"
     ]
    }
   ],
   "source": [
    "# Investigate max/min throttle/brake mechanism\n",
    "\n",
    "\n",
    "vel_target  = 0.0    # up to 2.77778\n",
    "vel_current = 4.0\n",
    "\n",
    "\n",
    "throttle, brake = 0.0, 0.0\n",
    "if abs(vel_target) > abs(vel_current):\n",
    "    if vel_target < 0.:\n",
    "        throttle = -0.01\n",
    "    else:\n",
    "        throttle = max(min((vel_target-vel_current+0.1)/vel_target, 0.025), -0.25)\n",
    "elif vel_current > 0.1:\n",
    "    throttle = max(min((vel_target-vel_current-0.1)/vel_current, 0.025), -0.25)\n",
    "else:\n",
    "    throttle = -0.01\n",
    "if throttle < 0.:\n",
    "    brake = -throttle\n",
    "    throttle = 0.\n",
    "    \n",
    "    \n",
    "print(throttle, brake)"
   ]
  },
  {
   "cell_type": "code",
   "execution_count": null,
   "metadata": {
    "collapsed": true
   },
   "outputs": [],
   "source": []
  }
 ],
 "metadata": {
  "kernelspec": {
   "display_name": "Python 3",
   "language": "python",
   "name": "python3"
  },
  "language_info": {
   "codemirror_mode": {
    "name": "ipython",
    "version": 3
   },
   "file_extension": ".py",
   "mimetype": "text/x-python",
   "name": "python",
   "nbconvert_exporter": "python",
   "pygments_lexer": "ipython3",
   "version": "3.5.2"
  },
  "widgets": {
   "state": {},
   "version": "1.1.2"
  }
 },
 "nbformat": 4,
 "nbformat_minor": 2
}
